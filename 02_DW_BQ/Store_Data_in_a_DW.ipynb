{
  "cells": [
    {
      "cell_type": "code",
      "execution_count": 1,
      "metadata": {
        "colab": {
          "base_uri": "https://localhost:8080/"
        },
        "id": "ZgNjdZInThPa",
        "outputId": "1eec1053-f275-44f1-ae2c-3cf02d948825"
      },
      "outputs": [
        {
          "name": "stdout",
          "output_type": "stream",
          "text": [
            "Requirement already satisfied: google-cloud-bigquery in /usr/local/lib/python3.11/dist-packages (3.29.0)\n",
            "Requirement already satisfied: pandas-gbq in /usr/local/lib/python3.11/dist-packages (0.28.0)\n",
            "Requirement already satisfied: google-api-core<3.0.0dev,>=2.11.1 in /usr/local/lib/python3.11/dist-packages (from google-api-core[grpc]<3.0.0dev,>=2.11.1->google-cloud-bigquery) (2.24.2)\n",
            "Requirement already satisfied: google-auth<3.0.0dev,>=2.14.1 in /usr/local/lib/python3.11/dist-packages (from google-cloud-bigquery) (2.38.0)\n",
            "Requirement already satisfied: google-cloud-core<3.0.0dev,>=2.4.1 in /usr/local/lib/python3.11/dist-packages (from google-cloud-bigquery) (2.4.3)\n",
            "Requirement already satisfied: google-resumable-media<3.0dev,>=2.0.0 in /usr/local/lib/python3.11/dist-packages (from google-cloud-bigquery) (2.7.2)\n",
            "Requirement already satisfied: packaging>=20.0.0 in /usr/local/lib/python3.11/dist-packages (from google-cloud-bigquery) (24.2)\n",
            "Requirement already satisfied: python-dateutil<3.0dev,>=2.7.3 in /usr/local/lib/python3.11/dist-packages (from google-cloud-bigquery) (2.8.2)\n",
            "Requirement already satisfied: requests<3.0.0dev,>=2.21.0 in /usr/local/lib/python3.11/dist-packages (from google-cloud-bigquery) (2.32.3)\n",
            "Requirement already satisfied: setuptools in /usr/local/lib/python3.11/dist-packages (from pandas-gbq) (75.1.0)\n",
            "Requirement already satisfied: db-dtypes<2.0.0,>=1.0.4 in /usr/local/lib/python3.11/dist-packages (from pandas-gbq) (1.4.2)\n",
            "Requirement already satisfied: numpy>=1.18.1 in /usr/local/lib/python3.11/dist-packages (from pandas-gbq) (2.0.2)\n",
            "Requirement already satisfied: pandas>=1.1.4 in /usr/local/lib/python3.11/dist-packages (from pandas-gbq) (2.2.2)\n",
            "Requirement already satisfied: pyarrow>=4.0.0 in /usr/local/lib/python3.11/dist-packages (from pandas-gbq) (18.1.0)\n",
            "Requirement already satisfied: pydata-google-auth>=1.5.0 in /usr/local/lib/python3.11/dist-packages (from pandas-gbq) (1.9.1)\n",
            "Requirement already satisfied: google-auth-oauthlib>=0.7.0 in /usr/local/lib/python3.11/dist-packages (from pandas-gbq) (1.2.1)\n",
            "Requirement already satisfied: googleapis-common-protos<2.0.0,>=1.56.2 in /usr/local/lib/python3.11/dist-packages (from google-api-core<3.0.0dev,>=2.11.1->google-api-core[grpc]<3.0.0dev,>=2.11.1->google-cloud-bigquery) (1.69.2)\n",
            "Requirement already satisfied: protobuf!=3.20.0,!=3.20.1,!=4.21.0,!=4.21.1,!=4.21.2,!=4.21.3,!=4.21.4,!=4.21.5,<7.0.0,>=3.19.5 in /usr/local/lib/python3.11/dist-packages (from google-api-core<3.0.0dev,>=2.11.1->google-api-core[grpc]<3.0.0dev,>=2.11.1->google-cloud-bigquery) (5.29.4)\n",
            "Requirement already satisfied: proto-plus<2.0.0,>=1.22.3 in /usr/local/lib/python3.11/dist-packages (from google-api-core<3.0.0dev,>=2.11.1->google-api-core[grpc]<3.0.0dev,>=2.11.1->google-cloud-bigquery) (1.26.1)\n",
            "Requirement already satisfied: grpcio<2.0dev,>=1.33.2 in /usr/local/lib/python3.11/dist-packages (from google-api-core[grpc]<3.0.0dev,>=2.11.1->google-cloud-bigquery) (1.71.0)\n",
            "Requirement already satisfied: grpcio-status<2.0.dev0,>=1.33.2 in /usr/local/lib/python3.11/dist-packages (from google-api-core[grpc]<3.0.0dev,>=2.11.1->google-cloud-bigquery) (1.71.0)\n",
            "Requirement already satisfied: cachetools<6.0,>=2.0.0 in /usr/local/lib/python3.11/dist-packages (from google-auth<3.0.0dev,>=2.14.1->google-cloud-bigquery) (5.5.2)\n",
            "Requirement already satisfied: pyasn1-modules>=0.2.1 in /usr/local/lib/python3.11/dist-packages (from google-auth<3.0.0dev,>=2.14.1->google-cloud-bigquery) (0.4.1)\n",
            "Requirement already satisfied: rsa<5,>=3.1.4 in /usr/local/lib/python3.11/dist-packages (from google-auth<3.0.0dev,>=2.14.1->google-cloud-bigquery) (4.9)\n",
            "Requirement already satisfied: requests-oauthlib>=0.7.0 in /usr/local/lib/python3.11/dist-packages (from google-auth-oauthlib>=0.7.0->pandas-gbq) (2.0.0)\n",
            "Requirement already satisfied: google-crc32c<2.0dev,>=1.0 in /usr/local/lib/python3.11/dist-packages (from google-resumable-media<3.0dev,>=2.0.0->google-cloud-bigquery) (1.7.0)\n",
            "Requirement already satisfied: pytz>=2020.1 in /usr/local/lib/python3.11/dist-packages (from pandas>=1.1.4->pandas-gbq) (2025.1)\n",
            "Requirement already satisfied: tzdata>=2022.7 in /usr/local/lib/python3.11/dist-packages (from pandas>=1.1.4->pandas-gbq) (2025.1)\n",
            "Requirement already satisfied: six>=1.5 in /usr/local/lib/python3.11/dist-packages (from python-dateutil<3.0dev,>=2.7.3->google-cloud-bigquery) (1.17.0)\n",
            "Requirement already satisfied: charset-normalizer<4,>=2 in /usr/local/lib/python3.11/dist-packages (from requests<3.0.0dev,>=2.21.0->google-cloud-bigquery) (3.4.1)\n",
            "Requirement already satisfied: idna<4,>=2.5 in /usr/local/lib/python3.11/dist-packages (from requests<3.0.0dev,>=2.21.0->google-cloud-bigquery) (3.10)\n",
            "Requirement already satisfied: urllib3<3,>=1.21.1 in /usr/local/lib/python3.11/dist-packages (from requests<3.0.0dev,>=2.21.0->google-cloud-bigquery) (2.3.0)\n",
            "Requirement already satisfied: certifi>=2017.4.17 in /usr/local/lib/python3.11/dist-packages (from requests<3.0.0dev,>=2.21.0->google-cloud-bigquery) (2025.1.31)\n",
            "Requirement already satisfied: pyasn1<0.7.0,>=0.4.6 in /usr/local/lib/python3.11/dist-packages (from pyasn1-modules>=0.2.1->google-auth<3.0.0dev,>=2.14.1->google-cloud-bigquery) (0.6.1)\n",
            "Requirement already satisfied: oauthlib>=3.0.0 in /usr/local/lib/python3.11/dist-packages (from requests-oauthlib>=0.7.0->google-auth-oauthlib>=0.7.0->pandas-gbq) (3.2.2)\n"
          ]
        }
      ],
      "source": [
        "pip install google-cloud-bigquery pandas-gbq"
      ]
    },
    {
      "cell_type": "code",
      "execution_count": 1,
      "metadata": {
        "id": "UzGS-1qWTxKx"
      },
      "outputs": [],
      "source": [
        "from google.cloud import bigquery\n",
        "import pandas as pd\n",
        "import os"
      ]
    },
    {
      "cell_type": "markdown",
      "metadata": {
        "id": "ceBOSKxAV8gf"
      },
      "source": [
        "## Enviroment Configuration"
      ]
    },
    {
      "cell_type": "code",
      "execution_count": 6,
      "metadata": {
        "id": "ytjXATQITpnx"
      },
      "outputs": [],
      "source": [
        "os.environ[\"GOOGLE_APPLICATION_CREDENTIALS\"] = r\"D:\\GAMIC\\PORTFOLIO\\CLOTHING RETAIL - PRS POWERED BY LLM\\credentials.json\"\n",
        "project_id = \"clothing-retail-prs-llm\"\n",
        "dataset_id = \"fashion_retail_dataset\"\n",
        "csv_folder = r\"D:\\GAMIC\\PORTFOLIO\\CLOTHING RETAIL - PRS POWERED BY LLM\\01_Clothing_Retail_Synthetic_Data_Creation\"\n",
        "location = \"us-central1\"  # Ajusta tu región\n"
      ]
    },
    {
      "cell_type": "markdown",
      "metadata": {
        "id": "uPtS16RAWMYv"
      },
      "source": [
        "## Client Start"
      ]
    },
    {
      "cell_type": "code",
      "execution_count": 7,
      "metadata": {
        "colab": {
          "base_uri": "https://localhost:8080/",
          "height": 335
        },
        "id": "yIpHb_sSVQh4",
        "outputId": "12ff5633-37d1-4e64-a9bc-cfb313f9c394"
      },
      "outputs": [],
      "source": [
        "# Inicializa el cliente\n",
        "client = bigquery.Client(project=\"clothing-retail-prs-llm\", location=\"us-central1\")"
      ]
    },
    {
      "cell_type": "markdown",
      "metadata": {
        "id": "PhUbt0JEWUQP"
      },
      "source": [
        "## Creation of Datasets in BigQuery"
      ]
    },
    {
      "cell_type": "code",
      "execution_count": 8,
      "metadata": {
        "id": "UNryO7stWt8I"
      },
      "outputs": [
        {
          "name": "stdout",
          "output_type": "stream",
          "text": [
            "Dataset ya existe.\n"
          ]
        }
      ],
      "source": [
        "dataset_ref = client.dataset(dataset_id)\n",
        "try:\n",
        "    client.get_dataset(dataset_ref)\n",
        "    print(\"Dataset ya existe.\")\n",
        "except Exception:\n",
        "    dataset = bigquery.Dataset(dataset_ref)\n",
        "    dataset.location = location\n",
        "    client.create_dataset(dataset)\n",
        "    print(f\"Dataset {dataset_id} creado.\")"
      ]
    },
    {
      "cell_type": "markdown",
      "metadata": {
        "id": "MtevyoJLWk9W"
      },
      "source": [
        "## Load tables from CSV"
      ]
    },
    {
      "cell_type": "code",
      "execution_count": 18,
      "metadata": {},
      "outputs": [],
      "source": [
        "tables = {\n",
        "    \"customers\": \"customers.csv\",          # Archivo en csv_folder/customers.csv\n",
        "    \"products\": \"products.csv\",            # Archivo en csv_folder/products.csv\n",
        "    \"interactions\": \"interactions.csv\",    # ... y así sucesivamente\n",
        "    \"transactions\": \"transactions.csv\",\n",
        "    \"inventory_history\": \"inventory_history.csv\",\n",
        "    \"customer_segments\": \"customer_segments.csv\"\n",
        "}"
      ]
    },
    {
      "cell_type": "code",
      "execution_count": null,
      "metadata": {
        "id": "51iuT35-Tprf"
      },
      "outputs": [
        {
          "name": "stdout",
          "output_type": "stream",
          "text": [
            "Tabla customers cargada. Filas: 5000\n",
            "Tabla products cargada. Filas: 1500\n",
            "Tabla interactions cargada. Filas: 100000\n",
            "Tabla transactions cargada. Filas: 15000\n",
            "Tabla inventory_history cargada. Filas: 85500\n",
            "Tabla customer_segments cargada. Filas: 5000\n"
          ]
        }
      ],
      "source": [
        "for table_name, csv_file in tables.items():\n",
        "    # Construir ruta completa al archivo CSV\n",
        "    full_path = os.path.join(csv_folder, csv_file)  # <-- Aquí se combinan las rutas\n",
        "    \n",
        "    # Configurar job de carga\n",
        "    job_config = bigquery.LoadJobConfig(\n",
        "        source_format=bigquery.SourceFormat.CSV,\n",
        "        skip_leading_rows=1,\n",
        "        autodetect=True,\n",
        "        write_disposition=\"WRITE_TRUNCATE\"\n",
        "    )\n",
        "    \n",
        "    # Cargar archivo\n",
        "    with open(full_path, \"rb\") as source_file:  # <-- Usa full_path\n",
        "        job = client.load_table_from_file(\n",
        "            source_file,\n",
        "            dataset_ref.table(table_name),\n",
        "            job_config=job_config\n",
        "        )\n",
        "    \n",
        "    job.result()\n",
        "    print(f\"Table {table_name} load. Rows: {job.output_rows}\")"
      ]
    },
    {
      "cell_type": "markdown",
      "metadata": {},
      "source": [
        "## Partition by purchase_date"
      ]
    },
    {
      "cell_type": "code",
      "execution_count": null,
      "metadata": {
        "id": "dbncT6Y5TpkN"
      },
      "outputs": [],
      "source": [
        "job_config.time_partitioning = bigquery.TimePartitioning(\n",
        "    type_=bigquery.TimePartitioningType.DAY,\n",
        "    field=\"purchase_date\"\n",
        ")"
      ]
    },
    {
      "cell_type": "markdown",
      "metadata": {},
      "source": [
        "## Compare quantity of rows between CSV and BiQuery"
      ]
    },
    {
      "cell_type": "code",
      "execution_count": null,
      "metadata": {
        "id": "py8weeb0Tpgn"
      },
      "outputs": [],
      "source": [
        "\n",
        "for table_name, csv_file in tables.items():\n",
        "\n",
        "    csv_rows = sum(1 for line in open(f\"{csv_folder}/{csv_file}\")) - 1  # Resta el header\n",
        "    \n",
        "    query = f\"SELECT COUNT(*) AS total FROM {dataset_id}.{table_name}\"\n",
        "    bq_rows = list(client.query(query))[0]['total']\n",
        "    \n",
        "    assert csv_rows == bq_rows, f\"Error on {table_name}: CSV={csv_rows} vs BQ={bq_rows}\""
      ]
    }
  ],
  "metadata": {
    "colab": {
      "provenance": []
    },
    "kernelspec": {
      "display_name": "Python 3",
      "name": "python3"
    },
    "language_info": {
      "codemirror_mode": {
        "name": "ipython",
        "version": 3
      },
      "file_extension": ".py",
      "mimetype": "text/x-python",
      "name": "python",
      "nbconvert_exporter": "python",
      "pygments_lexer": "ipython3",
      "version": "3.12.6"
    }
  },
  "nbformat": 4,
  "nbformat_minor": 0
}
