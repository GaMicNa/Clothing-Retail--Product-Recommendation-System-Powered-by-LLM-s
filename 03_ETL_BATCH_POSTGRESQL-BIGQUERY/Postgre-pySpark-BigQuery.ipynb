{
 "cells": [
  {
   "cell_type": "code",
   "execution_count": 8,
   "metadata": {},
   "outputs": [],
   "source": [
    "#pip install pyspark findspark\n",
    "#pip install google.cloud"
   ]
  },
  {
   "cell_type": "code",
   "execution_count": 1,
   "metadata": {},
   "outputs": [],
   "source": [
    "from pyspark.sql import SparkSession\n",
    "from pyspark.sql.functions import lit, current_timestamp\n",
    "from pyspark.sql.functions import col\n",
    "from pyspark.sql.types import DecimalType\n",
    "from datetime import datetime, timedelta\n",
    "import os"
   ]
  },
  {
   "cell_type": "markdown",
   "metadata": {},
   "source": [
    "## Env variables configuration"
   ]
  },
  {
   "cell_type": "code",
   "execution_count": 2,
   "metadata": {},
   "outputs": [],
   "source": [
    "os.environ[\"JAVA_HOME\"] = r\"C:\\Program Files\\Java\\jdk-11\"  \n",
    "os.environ[\"GOOGLE_APPLICATION_CREDENTIALS\"] = r\"D:\\GAMIC\\PORTFOLIO\\CLOTHING RETAIL - PRS POWERED BY LLM\\credentials.json\"  # Ruta del JSON de GCP\n",
    "\n",
    "# Conection conf\n",
    "PG_HOST = \"localhost\"\n",
    "PG_PORT = \"5432\"\n",
    "PG_DATABASE = \"FASHION_STORE\"\n",
    "PG_USER = \"postgres\"\n",
    "PG_PASSWORD = \"gamic\"\n",
    "\n",
    "BQ_PROJECT_ID = \"clothing-retail-prs-llm\"\n",
    "BQ_DATASET = \"fashion_retail_dataset\""
   ]
  },
  {
   "cell_type": "markdown",
   "metadata": {},
   "source": [
    "## Init session on Spark with conectors"
   ]
  },
  {
   "cell_type": "code",
   "execution_count": 3,
   "metadata": {},
   "outputs": [],
   "source": [
    "spark = SparkSession.builder \\\n",
    "    .appName(\"PhysicalStoreETL\") \\\n",
    "    .config(\"spark.jars.packages\", (\n",
    "        \"org.postgresql:postgresql:42.5.1,\"\n",
    "        \"com.google.cloud.spark:spark-bigquery-with-dependencies_2.12:0.28.0\"\n",
    "    )) \\\n",
    "    .config(\"temporaryGcsBucket\", \"bucket_fashion_retail\") \\\n",
    "    .getOrCreate()"
   ]
  },
  {
   "cell_type": "markdown",
   "metadata": {},
   "source": [
    "## Define tables for process"
   ]
  },
  {
   "cell_type": "code",
   "execution_count": 4,
   "metadata": {},
   "outputs": [],
   "source": [
    "TABLES = {\n",
    "    \"customers\": \"registration_date\",\n",
    "    \"transactions\": \"purchase_date\",\n",
    "    \"customer_segments\": \"update_date\",\n",
    "    \"inventory_history\": \"date\"\n",
    "}\n"
   ]
  },
  {
   "cell_type": "markdown",
   "metadata": {},
   "source": [
    "## Define dates"
   ]
  },
  {
   "cell_type": "code",
   "execution_count": 5,
   "metadata": {},
   "outputs": [],
   "source": [
    "#last_run_date = (datetime.now() - timedelta(days=1)).strftime(\"%Y-%m-%d\")\n",
    "last_run_date = \"2025-01-01\""
   ]
  },
  {
   "cell_type": "markdown",
   "metadata": {},
   "source": [
    "## ETL pipeline for each table"
   ]
  },
  {
   "cell_type": "code",
   "execution_count": 6,
   "metadata": {},
   "outputs": [
    {
     "name": "stdout",
     "output_type": "stream",
     "text": [
      "\n",
      "Procesando: CUSTOMERS\n",
      "Consulta: SELECT * FROM customers WHERE registration_date >= '2025-01-01'\n",
      "Cargados 5 registros en BigQuery para la tabla customers\n",
      "\n",
      "Procesando: TRANSACTIONS\n",
      "Consulta: SELECT * FROM transactions WHERE purchase_date >= '2025-01-01'\n",
      "Cargados 3 registros en BigQuery para la tabla transactions\n",
      "\n",
      "Procesando: CUSTOMER_SEGMENTS\n",
      "Consulta: SELECT * FROM customer_segments WHERE update_date >= '2025-01-01'\n",
      "Cargados 30 registros en BigQuery para la tabla customer_segments\n",
      "\n",
      "Procesando: INVENTORY_HISTORY\n",
      "Consulta: SELECT * FROM inventory_history WHERE date >= '2025-01-01'\n",
      "Cargados 150 registros en BigQuery para la tabla inventory_history\n"
     ]
    }
   ],
   "source": [
    "for table, date_field in TABLES.items():\n",
    "    print(f\"\\nProcesando: {table.upper()}\")\n",
    "    \n",
    "    query = f\"SELECT * FROM {table} WHERE {date_field} >= '{last_run_date}'\"\n",
    "    print(\"Consulta:\", query)\n",
    "    \n",
    "    try:\n",
    "        # Read data from PostgreSQL\n",
    "        pg_df = spark.read \\\n",
    "            .format(\"jdbc\") \\\n",
    "            .option(\"url\", f\"jdbc:postgresql://{PG_HOST}:{PG_PORT}/{PG_DATABASE}\") \\\n",
    "            .option(\"query\", query) \\\n",
    "            .option(\"user\", PG_USER) \\\n",
    "            .option(\"password\", PG_PASSWORD) \\\n",
    "            .option(\"driver\", \"org.postgresql.Driver\") \\\n",
    "            .load()\n",
    "        \n",
    "        if pg_df.rdd.isEmpty():\n",
    "            print(f\"Sin datos nuevos en {table}\")\n",
    "            continue\n",
    "        \n",
    "        # Especific trasformation for table\n",
    "        if table == \"customers\":\n",
    "            pg_df = pg_df.withColumn(\"data_source\", lit(\"physical_store\"))\n",
    "\n",
    "        # Load on bigquery\n",
    "        pg_df.write \\\n",
    "            .format(\"bigquery\") \\\n",
    "            .option(\"table\", f\"{BQ_PROJECT_ID}.{BQ_DATASET}.{table}\") \\\n",
    "            .option(\"writeMethod\", \"direct\") \\\n",
    "            .mode(\"append\") \\\n",
    "            .save()\n",
    "        \n",
    "        print(f\"Cargados {pg_df.count()} registros en BigQuery para la tabla {table}\")\n",
    "    \n",
    "    except Exception as e:\n",
    "        print(f\"Error procesando la tabla {table}: {str(e)}\")\n"
   ]
  },
  {
   "cell_type": "markdown",
   "metadata": {},
   "source": [
    "## Close session"
   ]
  },
  {
   "cell_type": "code",
   "execution_count": 7,
   "metadata": {},
   "outputs": [
    {
     "name": "stdout",
     "output_type": "stream",
     "text": [
      "\n",
      "¡ETL completede succefully!\n"
     ]
    }
   ],
   "source": [
    "spark.stop()\n",
    "print(\"\\n¡ETL completede succefully!\")"
   ]
  },
  {
   "cell_type": "code",
   "execution_count": null,
   "metadata": {},
   "outputs": [],
   "source": []
  }
 ],
 "metadata": {
  "kernelspec": {
   "display_name": "base",
   "language": "python",
   "name": "python3"
  },
  "language_info": {
   "codemirror_mode": {
    "name": "ipython",
    "version": 3
   },
   "file_extension": ".py",
   "mimetype": "text/x-python",
   "name": "python",
   "nbconvert_exporter": "python",
   "pygments_lexer": "ipython3",
   "version": "3.9.13"
  }
 },
 "nbformat": 4,
 "nbformat_minor": 2
}
