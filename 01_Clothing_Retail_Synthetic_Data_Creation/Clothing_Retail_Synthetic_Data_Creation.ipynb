{
  "cells": [
    {
      "cell_type": "code",
      "execution_count": 13,
      "metadata": {
        "colab": {
          "base_uri": "https://localhost:8080/"
        },
        "id": "MK7C810_EhBK",
        "outputId": "b11e563c-8dcd-45be-e16d-f7a78790fa20"
      },
      "outputs": [
        {
          "name": "stdout",
          "output_type": "stream",
          "text": [
            "Defaulting to user installation because normal site-packages is not writeable\n",
            "Requirement already satisfied: faker in c:\\users\\asus\\appdata\\roaming\\python\\python312\\site-packages (37.1.0)\n",
            "Requirement already satisfied: pandas in c:\\users\\asus\\appdata\\roaming\\python\\python312\\site-packages (2.2.3)\n",
            "Requirement already satisfied: numpy in c:\\users\\asus\\appdata\\roaming\\python\\python312\\site-packages (2.1.2)\n",
            "Requirement already satisfied: tzdata in c:\\users\\asus\\appdata\\roaming\\python\\python312\\site-packages (from faker) (2024.2)\n",
            "Requirement already satisfied: python-dateutil>=2.8.2 in c:\\users\\asus\\appdata\\roaming\\python\\python312\\site-packages (from pandas) (2.9.0.post0)\n",
            "Requirement already satisfied: pytz>=2020.1 in c:\\users\\asus\\appdata\\roaming\\python\\python312\\site-packages (from pandas) (2024.2)\n",
            "Requirement already satisfied: six>=1.5 in c:\\users\\asus\\appdata\\roaming\\python\\python312\\site-packages (from python-dateutil>=2.8.2->pandas) (1.16.0)\n",
            "Note: you may need to restart the kernel to use updated packages.\n"
          ]
        },
        {
          "name": "stderr",
          "output_type": "stream",
          "text": [
            "\n",
            "[notice] A new release of pip is available: 24.2 -> 25.0.1\n",
            "[notice] To update, run: python.exe -m pip install --upgrade pip\n"
          ]
        }
      ],
      "source": [
        "pip install faker pandas numpy"
      ]
    },
    {
      "cell_type": "code",
      "execution_count": 1,
      "metadata": {
        "id": "QjCRT9HNBX0F"
      },
      "outputs": [],
      "source": [
        "import pandas as pd\n",
        "import numpy as np\n",
        "from faker import Faker\n",
        "from datetime import datetime, timedelta\n",
        "import random\n"
      ]
    },
    {
      "cell_type": "markdown",
      "metadata": {
        "id": "sRyhFhJvlibG"
      },
      "source": [
        "# Configuration"
      ]
    },
    {
      "cell_type": "code",
      "execution_count": 2,
      "metadata": {
        "id": "bot74lQpldZ7"
      },
      "outputs": [],
      "source": [
        "np.random.seed(42)\n",
        "fake = Faker()\n",
        "num_customers = 5000\n",
        "num_products = 1500\n",
        "num_interactions = 100000\n",
        "num_transactions = 15000\n",
        "start_date = datetime(2023, 1, 1)\n",
        "end_date = datetime(2024, 1, 31)\n"
      ]
    },
    {
      "cell_type": "markdown",
      "metadata": {
        "id": "ESBrMObnlooc"
      },
      "source": [
        "## 1. CUSTOMERS TABLE"
      ]
    },
    {
      "cell_type": "code",
      "execution_count": 3,
      "metadata": {
        "id": "UqoU504-EOtN"
      },
      "outputs": [],
      "source": [
        "customers = pd.DataFrame({\n",
        "    \"customer_id\": list(range(1, num_customers + 1)),\n",
        "    \"name\": [fake.name() for _ in range(num_customers)],\n",
        "    \"age\": np.random.normal(loc=35, scale=10, size=num_customers).astype(int),\n",
        "    \"gender\": np.random.choice([\"Male\", \"Female\", \"Other\"], num_customers, p=[0.45, 0.45, 0.1]),\n",
        "    \"email\": [fake.email() for _ in range(num_customers)],\n",
        "    \"location\": [fake.country() for _ in range(num_customers)],\n",
        "    \"registration_date\": [\n",
        "        fake.date_between(\n",
        "            start_date=start_date - timedelta(days=730),\n",
        "            end_date=end_date.date()\n",
        "        )\n",
        "        for _ in range(num_customers)\n",
        "    ],\n",
        "    \"preferred_style\": np.random.choice([\"Casual\", \"Formal\", \"Sport\", \"Bohemian\", \"Luxury\"], num_customers, p=[0.3, 0.2, 0.2, 0.2, 0.1])\n",
        "})\n",
        "\n",
        "# Age validation\n",
        "customers[\"age\"] = customers[\"age\"].clip(18, 80)"
      ]
    },
    {
      "cell_type": "markdown",
      "metadata": {
        "id": "k51cYYUWlz23"
      },
      "source": [
        "## 2. PRODUCTS TABLE"
      ]
    },
    {
      "cell_type": "code",
      "execution_count": 4,
      "metadata": {
        "id": "ai9QEJUCS4TP"
      },
      "outputs": [],
      "source": [
        "\n",
        "# =============================================\n",
        "# 1. Master Data and Configurations\n",
        "# =============================================\n",
        "materials = [\n",
        "    \"Cotton\", \"Polyester\", \"Denim\", \"Silk\", \"Wool\",\n",
        "    \"Leather\", \"Linen\", \"Spandex\", \"Cashmere\", \"Velvet\",\n",
        "    \"Nylon\", \"Rayon\", \"Satin\", \"Chiffon\", \"Tweed\"\n",
        "]\n",
        "\n",
        "formality_levels = [\"Casual\", \"Office\", \"Party\", \"Formal\", \"Beach\", \"Athletic\"]\n",
        "seasons = [\"Spring\", \"Summer\", \"Fall\", \"Winter\", \"All-Season\"]\n",
        "\n",
        "categories = {\n",
        "    \"Shirts\": {\n",
        "        \"subcategories\": [\"T-Shirt\", \"Dress Shirt\", \"Polo\", \"Blouse\", \"Oxford\"],\n",
        "        \"common_materials\": [\"Cotton\", \"Polyester\", \"Linen\"]\n",
        "    },\n",
        "    \"Pants\": {\n",
        "        \"subcategories\": [\"Jeans\", \"Chinos\", \"Slacks\", \"Leggings\", \"Cargo\"],\n",
        "        \"common_materials\": [\"Denim\", \"Cotton\", \"Wool\"]\n",
        "    },\n",
        "    \"Dresses\": {\n",
        "        \"subcategories\": [\"Cocktail\", \"Maxi\", \"Mini\", \"Wedding\", \"Midi\"],\n",
        "        \"common_materials\": [\"Silk\", \"Satin\", \"Chiffon\"]\n",
        "    },\n",
        "    \"Outerwear\": {\n",
        "        \"subcategories\": [\"Jacket\", \"Coat\", \"Blazer\", \"Parka\", \"Windbreaker\"],\n",
        "        \"common_materials\": [\"Wool\", \"Leather\", \"Polyester\"]\n",
        "    }\n",
        "}\n",
        "\n",
        "brands = {\n",
        "    \"Fast Fashion\": [\"Zara\", \"H&M\", \"Uniqlo\", \"Gap\", \"Mango\"],\n",
        "    \"Premium\": [\"Levi's\", \"Calvin Klein\", \"Tommy Hilfiger\", \"Boss\", \"Diesel\"],\n",
        "    \"Luxury\": [\"Gucci\", \"Prada\", \"Louis Vuitton\", \"Balenciaga\", \"Versace\"]\n",
        "}\n",
        "\n",
        "# =============================================\n",
        "# 2. Helper Functions\n",
        "# =============================================\n",
        "def generate_material_combinations(category):\n",
        "    \"\"\"Generate realistic material combinations based on category\"\"\"\n",
        "    category_materials = categories[category][\"common_materials\"]\n",
        "    num_materials = random.choices([1, 2, 3], weights=[0.4, 0.4, 0.2])[0]\n",
        "\n",
        "    # 70% probability to use category-specific materials\n",
        "    if random.random() < 0.7:\n",
        "        base = random.sample(category_materials, min(num_materials, len(category_materials)))\n",
        "    else:\n",
        "        base = []\n",
        "\n",
        "    # Add complementary materials\n",
        "    complements = random.sample([m for m in materials if m not in category_materials],\n",
        "                             num_materials - len(base))\n",
        "\n",
        "    return \", \".join(base + complements)\n",
        "\n",
        "def generate_price(brand_tier):\n",
        "    \"\"\"Generate realistic prices based on brand tier\"\"\"\n",
        "    if brand_tier == \"Luxury\":\n",
        "        return round(random.uniform(300, 3000) + 0.95, 2)\n",
        "    elif brand_tier == \"Premium\":\n",
        "        return round(random.uniform(80, 500) + 0.95, 2)\n",
        "    else:\n",
        "        return round(random.uniform(15, 120) + 0.95, 2)\n",
        "\n",
        "# =============================================\n",
        "# 3. Product Data Generation\n",
        "# =============================================\n",
        "products = []\n",
        "\n",
        "for product_id in range(1, 1501):\n",
        "    # Category selection\n",
        "    category = random.choice(list(categories.keys()))\n",
        "    subcategory = random.choice(categories[category][\"subcategories\"])\n",
        "\n",
        "    # Brand tier selection\n",
        "    brand_tier = random.choices(\n",
        "        list(brands.keys()),\n",
        "        weights=[0.6, 0.3, 0.1],\n",
        "        k=1\n",
        "    )[0]\n",
        "\n",
        "    # Product construction\n",
        "    product = {\n",
        "        \"product_id\": product_id,\n",
        "        \"product_name\": f\"{random.choice(brands[brand_tier])} {subcategory}\",\n",
        "        \"category\": category,\n",
        "        \"subcategory\": subcategory,\n",
        "        \"formality\": random.choice(formality_levels),\n",
        "        \"season\": random.choices(\n",
        "            seasons,\n",
        "            weights=[0.2, 0.3, 0.2, 0.2, 0.1],  # Higher summer probability\n",
        "            k=1\n",
        "        )[0],\n",
        "        \"materials\": generate_material_combinations(category),\n",
        "        \"size\": random.choices(\n",
        "            [\"XS\", \"S\", \"M\", \"L\", \"XL\"],\n",
        "            weights=[0.1, 0.3, 0.3, 0.2, 0.1],\n",
        "            k=1\n",
        "        )[0],\n",
        "        \"color\": fake.safe_color_name().title(),\n",
        "        \"brand_tier\": brand_tier,\n",
        "        \"price\": generate_price(brand_tier),\n",
        "        \"stock\": random.randint(0, 100) if brand_tier == \"Fast Fashion\" else random.randint(0, 20),\n",
        "        \"release_date\": fake.date_between(\n",
        "            start_date=datetime(2022, 1, 1),\n",
        "            end_date=datetime(2024, 12, 31)\n",
        "        ).strftime(\"%Y-%m-%d\")\n",
        "    }\n",
        "\n",
        "    products.append(product)\n",
        "\n",
        "# Create DataFrame\n",
        "products = pd.DataFrame(products)\n"
      ]
    },
    {
      "cell_type": "code",
      "execution_count": 5,
      "metadata": {
        "colab": {
          "base_uri": "https://localhost:8080/"
        },
        "id": "nxRckLKCTzN9",
        "outputId": "d0bcf369-0aba-49b9-ec0d-85237c754e1b"
      },
      "outputs": [
        {
          "name": "stdout",
          "output_type": "stream",
          "text": [
            "      product_id   product_name   category subcategory formality  season  \\\n",
            "905          906  Levi's Oxford     Shirts      Oxford     Party  Winter   \n",
            "1489        1490    Mango Parka  Outerwear       Parka    Office  Winter   \n",
            "535          536   Mango Blazer  Outerwear      Blazer     Party  Summer   \n",
            "\n",
            "           materials size    color    brand_tier   price  stock release_date  \n",
            "905   Rayon, Chiffon    L   Silver       Premium  377.26     13   2024-02-18  \n",
            "1489       Polyester    M   Maroon  Fast Fashion   60.38     16   2023-02-21  \n",
            "535        Polyester   XL  Fuchsia  Fast Fashion  102.60     81   2023-09-09  \n"
          ]
        }
      ],
      "source": [
        "print(products.sample(3))"
      ]
    },
    {
      "cell_type": "markdown",
      "metadata": {
        "id": "tnaCf8sNl9yd"
      },
      "source": [
        "## 3. INTERACTIONS TABLE"
      ]
    },
    {
      "cell_type": "code",
      "execution_count": 6,
      "metadata": {
        "id": "QB8O35LXIsp_"
      },
      "outputs": [],
      "source": [
        "num_interactions = 100_000\n",
        "\n",
        "interactions = pd.DataFrame({\n",
        "    \"interaction_id\": list(range(1, num_interactions + 1)),\n",
        "    \"customer_id\": np.random.choice(customers[\"customer_id\"], num_interactions),\n",
        "    \"product_id\": np.random.choice(products[\"product_id\"], num_interactions),\n",
        "    \"event_type\": np.random.choice([\"view\", \"click\", \"add_to_cart\"], num_interactions, p=[0.6, 0.35, 0.05]),\n",
        "    \"event_timestamp\": [fake.date_time_between(start_date, end_date) for _ in range(num_interactions)],\n",
        "    \"session_id\": [fake.uuid4() for _ in range(num_interactions)]\n",
        "}).sort_values(\"event_timestamp\").reset_index(drop=True)"
      ]
    },
    {
      "cell_type": "markdown",
      "metadata": {
        "id": "fz9ct7bLmDZz"
      },
      "source": [
        "## 4. TRANSACTIONS TABLE"
      ]
    },
    {
      "cell_type": "code",
      "execution_count": 7,
      "metadata": {
        "id": "VzJ1Tbe1IsnF"
      },
      "outputs": [],
      "source": [
        "num_transactions = 15_000  # 3x original ratio\n",
        "\n",
        "# Select only products with stock > 0\n",
        "available_products = products[products[\"stock\"] > 0][\"product_id\"].tolist()\n",
        "\n",
        "transactions = pd.DataFrame({\n",
        "    \"transaction_id\": list(range(1, num_transactions + 1)),\n",
        "    \"customer_id\": np.random.choice(customers[\"customer_id\"], num_transactions),\n",
        "    \"product_id\": np.random.choice(available_products, num_transactions),\n",
        "    \"quantity\": np.random.randint(1, 3, num_transactions),  # Fewer items for luxury\n",
        "    \"purchase_date\": [fake.date_time_between(start_date, end_date) for _ in range(num_transactions)],\n",
        "    \"payment_method\": np.random.choice(\n",
        "        [\"Credit Card\", \"Debit Card\", \"PayPal\", \"Crypto\"],\n",
        "        num_transactions,\n",
        "        p=[0.5, 0.3, 0.15, 0.05]\n",
        "    )\n",
        "})\n",
        "\n",
        "# Merge with product prices\n",
        "transactions = transactions.merge(products[[\"product_id\", \"price\"]], on=\"product_id\")\n",
        "transactions[\"total_amount\"] = transactions[\"price\"] * transactions[\"quantity\"]\n",
        "transactions[\"return_status\"] = np.random.choice([True, False], num_transactions, p=[0.05, 0.95])\n",
        "\n",
        "# Update stock levels (vectorized operation)\n",
        "products[\"stock\"] = products.apply(\n",
        "    lambda row: row[\"stock\"] - transactions[transactions[\"product_id\"] == row[\"product_id\"]][\"quantity\"].sum(),\n",
        "    axis=1\n",
        ")\n",
        "products[\"stock\"] = products[\"stock\"].clip(lower=0)"
      ]
    },
    {
      "cell_type": "markdown",
      "metadata": {
        "id": "5AEr70mlmL6b"
      },
      "source": [
        "## 5. Tabla INVENTORY_HISTORY"
      ]
    },
    {
      "cell_type": "code",
      "execution_count": 8,
      "metadata": {
        "id": "rMEx0oPrIsj7"
      },
      "outputs": [],
      "source": [
        "# ... (previous code to generate 'products' DataFrame) ...\n",
        "\n",
        "inventory_history = []\n",
        "for product in products[\"product_id\"]: # The 'products' DataFrame should be available here\n",
        "    base_stock = np.random.randint(50, 100)\n",
        "    for day in pd.date_range(start=start_date, end=end_date, freq=\"W\"):\n",
        "        inventory_history.append({\n",
        "            \"product_id\": product,  # Use single product ID instead of repeating\n",
        "            \"date\": day.date(),\n",
        "            \"stock_level\": max(0, base_stock - np.random.randint(0, 5))\n",
        "        })\n",
        "\n",
        "inventory_history = pd.DataFrame(inventory_history)"
      ]
    },
    {
      "cell_type": "code",
      "execution_count": 9,
      "metadata": {
        "colab": {
          "base_uri": "https://localhost:8080/",
          "height": 206
        },
        "id": "sQVpmEjLYGr4",
        "outputId": "724f1df8-6dd4-4f90-dd1b-e13aa3caa931"
      },
      "outputs": [
        {
          "data": {
            "text/html": [
              "<div>\n",
              "<style scoped>\n",
              "    .dataframe tbody tr th:only-of-type {\n",
              "        vertical-align: middle;\n",
              "    }\n",
              "\n",
              "    .dataframe tbody tr th {\n",
              "        vertical-align: top;\n",
              "    }\n",
              "\n",
              "    .dataframe thead th {\n",
              "        text-align: right;\n",
              "    }\n",
              "</style>\n",
              "<table border=\"1\" class=\"dataframe\">\n",
              "  <thead>\n",
              "    <tr style=\"text-align: right;\">\n",
              "      <th></th>\n",
              "      <th>product_id</th>\n",
              "      <th>date</th>\n",
              "      <th>stock_level</th>\n",
              "    </tr>\n",
              "  </thead>\n",
              "  <tbody>\n",
              "    <tr>\n",
              "      <th>0</th>\n",
              "      <td>1</td>\n",
              "      <td>2023-01-01</td>\n",
              "      <td>89</td>\n",
              "    </tr>\n",
              "    <tr>\n",
              "      <th>1</th>\n",
              "      <td>1</td>\n",
              "      <td>2023-01-08</td>\n",
              "      <td>89</td>\n",
              "    </tr>\n",
              "    <tr>\n",
              "      <th>2</th>\n",
              "      <td>1</td>\n",
              "      <td>2023-01-15</td>\n",
              "      <td>88</td>\n",
              "    </tr>\n",
              "    <tr>\n",
              "      <th>3</th>\n",
              "      <td>1</td>\n",
              "      <td>2023-01-22</td>\n",
              "      <td>89</td>\n",
              "    </tr>\n",
              "    <tr>\n",
              "      <th>4</th>\n",
              "      <td>1</td>\n",
              "      <td>2023-01-29</td>\n",
              "      <td>88</td>\n",
              "    </tr>\n",
              "  </tbody>\n",
              "</table>\n",
              "</div>"
            ],
            "text/plain": [
              "   product_id        date  stock_level\n",
              "0           1  2023-01-01           89\n",
              "1           1  2023-01-08           89\n",
              "2           1  2023-01-15           88\n",
              "3           1  2023-01-22           89\n",
              "4           1  2023-01-29           88"
            ]
          },
          "execution_count": 9,
          "metadata": {},
          "output_type": "execute_result"
        }
      ],
      "source": [
        "inventory_history.head()"
      ]
    },
    {
      "cell_type": "markdown",
      "metadata": {
        "id": "-mLYJkB-mOz0"
      },
      "source": [
        "## 6. Tabla CUSTOMER_SEGMENTS"
      ]
    },
    {
      "cell_type": "code",
      "execution_count": 10,
      "metadata": {
        "id": "SI00GsQoIsOT"
      },
      "outputs": [],
      "source": [
        "customer_segments = pd.DataFrame({\n",
        "    \"customer_id\": customers[\"customer_id\"],\n",
        "    \"segment\": np.random.choice(\n",
        "        [\"High Spender\", \"Frequent Buyer\", \"Occasional\", \"Inactive\"],\n",
        "        num_customers,\n",
        "        p=[0.1, 0.2, 0.4, 0.3]\n",
        "    ),\n",
        "    \"update_date\": end_date.date()\n",
        "})\n"
      ]
    },
    {
      "cell_type": "markdown",
      "metadata": {
        "id": "VeIRJT2AmUgR"
      },
      "source": [
        "## Final Validation"
      ]
    },
    {
      "cell_type": "code",
      "execution_count": 11,
      "metadata": {
        "colab": {
          "base_uri": "https://localhost:8080/"
        },
        "id": "Nj8m9qFGLD88",
        "outputId": "866df090-94ce-4f08-9eba-f30d8d202f05"
      },
      "outputs": [
        {
          "name": "stdout",
          "output_type": "stream",
          "text": [
            "All validations passed!\n"
          ]
        }
      ],
      "source": [
        "# 1. Foreign keys\n",
        "assert transactions[\"product_id\"].isin(products[\"product_id\"]).all()\n",
        "assert interactions[\"customer_id\"].isin(customers[\"customer_id\"]).all()\n",
        "\n",
        "# 2. Non-negative stock\n",
        "assert (products[\"stock\"] >= 0).all()\n",
        "\n",
        "# 3. Date validation\n",
        "# Convert to date objects for proper comparison\n",
        "start_date_date = start_date.date()\n",
        "end_date_date = end_date.date()\n",
        "\n",
        "# Check transactions are within range\n",
        "assert (transactions[\"purchase_date\"].dt.date >= start_date_date).all()\n",
        "assert (transactions[\"purchase_date\"].dt.date <= end_date_date).all()\n",
        "\n",
        "# Check registration dates\n",
        "assert (customers[\"registration_date\"] >= (start_date - timedelta(days=730)).date()).all()\n",
        "assert (customers[\"registration_date\"] <= end_date_date).all()\n",
        "\n",
        "print(\"All validations passed!\")"
      ]
    },
    {
      "cell_type": "markdown",
      "metadata": {
        "id": "afyPMRcSmtNp"
      },
      "source": [
        "## CSV Saved"
      ]
    },
    {
      "cell_type": "code",
      "execution_count": 12,
      "metadata": {
        "id": "r78lsbixLbqE"
      },
      "outputs": [],
      "source": [
        "\n",
        "# Guardar en CSV\n",
        "customers.to_csv(\"customers.csv\", index=False)\n",
        "products.to_csv(\"products.csv\", index=False)\n",
        "interactions.to_csv(\"interactions.csv\", index=False)\n",
        "transactions.to_csv(\"transactions.csv\", index=False)\n",
        "inventory_history.to_csv(\"inventory_history.csv\", index=False)\n",
        "customer_segments.to_csv(\"customer_segments.csv\", index=False)\n"
      ]
    }
  ],
  "metadata": {
    "colab": {
      "provenance": []
    },
    "kernelspec": {
      "display_name": "Python 3",
      "name": "python3"
    },
    "language_info": {
      "codemirror_mode": {
        "name": "ipython",
        "version": 3
      },
      "file_extension": ".py",
      "mimetype": "text/x-python",
      "name": "python",
      "nbconvert_exporter": "python",
      "pygments_lexer": "ipython3",
      "version": "3.12.6"
    }
  },
  "nbformat": 4,
  "nbformat_minor": 0
}
