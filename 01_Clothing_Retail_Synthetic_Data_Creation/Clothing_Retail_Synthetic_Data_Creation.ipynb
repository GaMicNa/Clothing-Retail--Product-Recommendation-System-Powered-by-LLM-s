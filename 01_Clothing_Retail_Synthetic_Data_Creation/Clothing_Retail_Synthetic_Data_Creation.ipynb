{
  "nbformat": 4,
  "nbformat_minor": 0,
  "metadata": {
    "colab": {
      "provenance": []
    },
    "kernelspec": {
      "name": "python3",
      "display_name": "Python 3"
    },
    "language_info": {
      "name": "python"
    }
  },
  "cells": [
    {
      "cell_type": "code",
      "source": [
        "pip install faker pandas numpy"
      ],
      "metadata": {
        "colab": {
          "base_uri": "https://localhost:8080/"
        },
        "id": "MK7C810_EhBK",
        "outputId": "c68bda0c-e13f-4337-d499-7580f067724d"
      },
      "execution_count": 9,
      "outputs": [
        {
          "output_type": "stream",
          "name": "stdout",
          "text": [
            "Collecting faker\n",
            "  Downloading faker-37.1.0-py3-none-any.whl.metadata (15 kB)\n",
            "Requirement already satisfied: pandas in /usr/local/lib/python3.11/dist-packages (2.2.2)\n",
            "Requirement already satisfied: numpy in /usr/local/lib/python3.11/dist-packages (2.0.2)\n",
            "Requirement already satisfied: tzdata in /usr/local/lib/python3.11/dist-packages (from faker) (2025.1)\n",
            "Requirement already satisfied: python-dateutil>=2.8.2 in /usr/local/lib/python3.11/dist-packages (from pandas) (2.8.2)\n",
            "Requirement already satisfied: pytz>=2020.1 in /usr/local/lib/python3.11/dist-packages (from pandas) (2025.1)\n",
            "Requirement already satisfied: six>=1.5 in /usr/local/lib/python3.11/dist-packages (from python-dateutil>=2.8.2->pandas) (1.17.0)\n",
            "Downloading faker-37.1.0-py3-none-any.whl (1.9 MB)\n",
            "\u001b[2K   \u001b[90m━━━━━━━━━━━━━━━━━━━━━━━━━━━━━━━━━━━━━━━━\u001b[0m \u001b[32m1.9/1.9 MB\u001b[0m \u001b[31m21.9 MB/s\u001b[0m eta \u001b[36m0:00:00\u001b[0m\n",
            "\u001b[?25hInstalling collected packages: faker\n",
            "Successfully installed faker-37.1.0\n"
          ]
        }
      ]
    },
    {
      "cell_type": "code",
      "execution_count": 10,
      "metadata": {
        "id": "QjCRT9HNBX0F"
      },
      "outputs": [],
      "source": [
        "import pandas as pd\n",
        "import numpy as np\n",
        "from faker import Faker\n",
        "from datetime import datetime, timedelta\n"
      ]
    },
    {
      "cell_type": "markdown",
      "source": [
        "# Configuration"
      ],
      "metadata": {
        "id": "sRyhFhJvlibG"
      }
    },
    {
      "cell_type": "code",
      "source": [
        "np.random.seed(42)\n",
        "fake = Faker()\n",
        "num_customers = 5000\n",
        "num_products = 1500\n",
        "start_date = datetime(2023, 1, 1)\n",
        "end_date = datetime(2024, 1, 31)\n"
      ],
      "metadata": {
        "id": "bot74lQpldZ7"
      },
      "execution_count": 56,
      "outputs": []
    },
    {
      "cell_type": "markdown",
      "source": [
        "## 1. CUSTOMERS TABLE"
      ],
      "metadata": {
        "id": "ESBrMObnlooc"
      }
    },
    {
      "cell_type": "code",
      "source": [
        "customers = pd.DataFrame({\n",
        "    \"customer_id\": [\"CUST-\" + str(i).zfill(6) for i in range(1, num_customers+1)],\n",
        "    \"name\": [fake.name() for _ in range(num_customers)],\n",
        "    \"age\": np.random.normal(loc=35, scale=10, size=num_customers).astype(int),\n",
        "    \"gender\": np.random.choice([\"Male\", \"Female\", \"Other\"], num_customers, p=[0.45, 0.45, 0.1]),\n",
        "    \"email\": [fake.email() for _ in range(num_customers)],\n",
        "    \"location\": [fake.country() for _ in range(num_customers)],\n",
        "    \"registration_date\": [\n",
        "        fake.date_between(\n",
        "            start_date=start_date - timedelta(days=730),\n",
        "            end_date=end_date.date()\n",
        "        )\n",
        "        for _ in range(num_customers)\n",
        "    ],\n",
        "    \"preferred_style\": np.random.choice([\"Casual\", \"Formal\", \"Sport\", \"Bohemian\", \"Luxury\"], num_customers, p=[0.3, 0.2, 0.2, 0.2, 0.1])\n",
        "})\n",
        "\n",
        "# Age validation\n",
        "customers[\"age\"] = customers[\"age\"].clip(18, 80)"
      ],
      "metadata": {
        "id": "UqoU504-EOtN"
      },
      "execution_count": 49,
      "outputs": []
    },
    {
      "cell_type": "markdown",
      "source": [
        "## 2. PRODUCTS TABLE"
      ],
      "metadata": {
        "id": "k51cYYUWlz23"
      }
    },
    {
      "cell_type": "code",
      "source": [
        "brands = {\n",
        "    \"Fast Fashion\": [\"Zara\", \"H&M\", \"Uniqlo\"],\n",
        "    \"Premium\": [\"Levi's\", \"Calvin Klein\", \"Tommy Hilfiger\"],\n",
        "    \"Luxury\": [\"Gucci\", \"Prada\", \"Louis Vuitton\", \"Balenciaga\", \"Versace\"]\n",
        "}\n",
        "\n",
        "categories = {\n",
        "    \"Shirts\": [\"Oxford\", \"Linen\", \"Silk\"],\n",
        "    \"Dresses\": [\"Cocktail\", \"Evening Gown\", \"Maxi\"],\n",
        "    \"Pants\": [\"Trousers\", \"Chinos\", \"Designer Jeans\"],\n",
        "    \"Jackets\": [\"Bomber\", \"Trench\", \"Leather\"],\n",
        "    \"Suits\": [\"Business\", \"Tuxedo\", \"Three-piece\"]\n",
        "}\n",
        "\n",
        "products_data = []\n",
        "for pid in range(1, num_products+1):\n",
        "    # Select brand tier\n",
        "    brand_tier = np.random.choice([\"Fast Fashion\", \"Premium\", \"Luxury\"], p=[0.6, 0.3, 0.1])\n",
        "    brand = np.random.choice(brands[brand_tier])\n",
        "\n",
        "    # Set price based on brand tier\n",
        "    if brand_tier == \"Luxury\":\n",
        "        price = np.round(np.random.uniform(500, 5000) + 0.95)\n",
        "    elif brand_tier == \"Premium\":\n",
        "        price = np.round(np.random.uniform(150, 800) + 0.95)\n",
        "    else:\n",
        "        price = np.round(np.random.uniform(20, 300) + 0.95)\n",
        "\n",
        "    category = np.random.choice(list(categories.keys()))\n",
        "    products_data.append({\n",
        "        \"product_id\": f\"PROD-{pid:06d}\",\n",
        "        \"product_name\": f\"{brand} {np.random.choice(categories[category])} {fake.color_name()}\",\n",
        "        \"category\": category,\n",
        "        \"brand\": brand,\n",
        "        \"brand_tier\": brand_tier,\n",
        "        \"size\": np.random.choice([\"XS\", \"S\", \"M\", \"L\", \"XL\"], p=[0.1, 0.2, 0.4, 0.2, 0.1]),\n",
        "        \"color\": fake.color_name(),\n",
        "        \"price\": price,\n",
        "        \"stock\": np.random.randint(0, 100) if brand_tier == \"Fast Fashion\" else np.random.randint(0, 20)\n",
        "    })\n",
        "\n",
        "products = pd.DataFrame(products_data)"
      ],
      "metadata": {
        "id": "w5SZV0weFNOC"
      },
      "execution_count": 26,
      "outputs": []
    },
    {
      "cell_type": "markdown",
      "source": [
        "## 3. INTERACTIONS TABLE"
      ],
      "metadata": {
        "id": "tnaCf8sNl9yd"
      }
    },
    {
      "cell_type": "code",
      "source": [
        "num_interactions = 100_000\n",
        "\n",
        "interactions = pd.DataFrame({\n",
        "    \"interaction_id\": [f\"INTER-{i:07d}\" for i in range(1, num_interactions+1)],\n",
        "    \"customer_id\": np.random.choice(customers[\"customer_id\"], num_interactions),\n",
        "    \"product_id\": np.random.choice(products[\"product_id\"], num_interactions),\n",
        "    \"event_type\": np.random.choice([\"view\", \"click\", \"add_to_cart\"], num_interactions, p=[0.6, 0.35, 0.05]),\n",
        "    \"event_timestamp\": [fake.date_time_between(start_date, end_date) for _ in range(num_interactions)],\n",
        "    \"session_id\": [fake.uuid4() for _ in range(num_interactions)]\n",
        "}).sort_values(\"event_timestamp\").reset_index(drop=True)"
      ],
      "metadata": {
        "id": "QB8O35LXIsp_"
      },
      "execution_count": 28,
      "outputs": []
    },
    {
      "cell_type": "markdown",
      "source": [
        "## 4. TRANSACTIONS TABLE"
      ],
      "metadata": {
        "id": "fz9ct7bLmDZz"
      }
    },
    {
      "cell_type": "code",
      "source": [
        "num_transactions = 15_000  # 3x original ratio\n",
        "\n",
        "# Select only products with stock > 0\n",
        "available_products = products[products[\"stock\"] > 0][\"product_id\"].tolist()\n",
        "\n",
        "transactions = pd.DataFrame({\n",
        "    \"transaction_id\": [f\"TRX-{i:07d}\" for i in range(1, num_transactions+1)],\n",
        "    \"customer_id\": np.random.choice(customers[\"customer_id\"], num_transactions),\n",
        "    \"product_id\": np.random.choice(available_products, num_transactions),\n",
        "    \"quantity\": np.random.randint(1, 3, num_transactions),  # Fewer items for luxury\n",
        "    \"purchase_date\": [fake.date_time_between(start_date, end_date) for _ in range(num_transactions)],\n",
        "    \"payment_method\": np.random.choice(\n",
        "        [\"Credit Card\", \"Debit Card\", \"PayPal\", \"Crypto\"],\n",
        "        num_transactions,\n",
        "        p=[0.5, 0.3, 0.15, 0.05]\n",
        "    )\n",
        "})\n",
        "\n",
        "# Merge with product prices\n",
        "transactions = transactions.merge(products[[\"product_id\", \"price\"]], on=\"product_id\")\n",
        "transactions[\"total_amount\"] = transactions[\"price\"] * transactions[\"quantity\"]\n",
        "transactions[\"return_status\"] = np.random.choice([True, False], num_transactions, p=[0.05, 0.95])\n",
        "\n",
        "# Update stock levels (vectorized operation)\n",
        "products[\"stock\"] = products.apply(\n",
        "    lambda row: row[\"stock\"] - transactions[transactions[\"product_id\"] == row[\"product_id\"]][\"quantity\"].sum(),\n",
        "    axis=1\n",
        ")\n",
        "products[\"stock\"] = products[\"stock\"].clip(lower=0)"
      ],
      "metadata": {
        "id": "VzJ1Tbe1IsnF"
      },
      "execution_count": 32,
      "outputs": []
    },
    {
      "cell_type": "markdown",
      "source": [
        "## 5. Tabla INVENTORY_HISTORY"
      ],
      "metadata": {
        "id": "5AEr70mlmL6b"
      }
    },
    {
      "cell_type": "code",
      "source": [
        "inventory_history = []\n",
        "for product in products[\"product_id\"]:\n",
        "    base_stock = np.random.randint(50, 100)\n",
        "    for day in pd.date_range(start=start_date, end=end_date, freq=\"W\"):\n",
        "        inventory_history.append({\n",
        "            \"product_id\": product,\n",
        "            \"date\": day.date(),\n",
        "            \"stock_level\": max(0, base_stock - np.random.randint(0, 5))\n",
        "        })\n",
        "\n",
        "inventory_history = pd.DataFrame(inventory_history)"
      ],
      "metadata": {
        "id": "rMEx0oPrIsj7"
      },
      "execution_count": 36,
      "outputs": []
    },
    {
      "cell_type": "markdown",
      "source": [
        "## 6. Tabla CUSTOMER_SEGMENTS"
      ],
      "metadata": {
        "id": "-mLYJkB-mOz0"
      }
    },
    {
      "cell_type": "code",
      "source": [
        "customer_segments = pd.DataFrame({\n",
        "    \"customer_id\": customers[\"customer_id\"],\n",
        "    \"segment\": np.random.choice(\n",
        "        [\"High Spender\", \"Frequent Buyer\", \"Occasional\", \"Inactive\"],\n",
        "        num_customers,\n",
        "        p=[0.1, 0.2, 0.4, 0.3]\n",
        "    ),\n",
        "    \"update_date\": end_date.date()\n",
        "})\n"
      ],
      "metadata": {
        "id": "SI00GsQoIsOT"
      },
      "execution_count": 39,
      "outputs": []
    },
    {
      "cell_type": "markdown",
      "source": [
        "## Final Validation"
      ],
      "metadata": {
        "id": "VeIRJT2AmUgR"
      }
    },
    {
      "cell_type": "code",
      "source": [
        "# 1. Foreign keys\n",
        "assert transactions[\"product_id\"].isin(products[\"product_id\"]).all()\n",
        "assert interactions[\"customer_id\"].isin(customers[\"customer_id\"]).all()\n",
        "\n",
        "# 2. Non-negative stock\n",
        "assert (products[\"stock\"] >= 0).all()\n",
        "\n",
        "# 3. Date validation\n",
        "# Convert to date objects for proper comparison\n",
        "start_date_date = start_date.date()\n",
        "end_date_date = end_date.date()\n",
        "\n",
        "# Check transactions are within range\n",
        "assert (transactions[\"purchase_date\"].dt.date >= start_date_date).all()\n",
        "assert (transactions[\"purchase_date\"].dt.date <= end_date_date).all()\n",
        "\n",
        "# Check registration dates\n",
        "assert (customers[\"registration_date\"] >= (start_date - timedelta(days=730)).date()).all()\n",
        "assert (customers[\"registration_date\"] <= end_date_date).all()\n",
        "\n",
        "print(\"All validations passed!\")"
      ],
      "metadata": {
        "colab": {
          "base_uri": "https://localhost:8080/"
        },
        "id": "Nj8m9qFGLD88",
        "outputId": "96569573-5d90-4793-b4a3-ae5052dade78"
      },
      "execution_count": 57,
      "outputs": [
        {
          "output_type": "stream",
          "name": "stdout",
          "text": [
            "All validations passed!\n"
          ]
        }
      ]
    },
    {
      "cell_type": "markdown",
      "source": [
        "## CSV Saved"
      ],
      "metadata": {
        "id": "afyPMRcSmtNp"
      }
    },
    {
      "cell_type": "code",
      "source": [
        "\n",
        "# Guardar en CSV\n",
        "customers.to_csv(\"customers.csv\", index=False)\n",
        "products.to_csv(\"products.csv\", index=False)\n",
        "interactions.to_csv(\"interactions.csv\", index=False)\n",
        "transactions.to_csv(\"transactions.csv\", index=False)\n",
        "inventory_history.to_csv(\"inventory_history.csv\", index=False)\n",
        "customer_segments.to_csv(\"customer_segments.csv\", index=False)\n"
      ],
      "metadata": {
        "colab": {
          "base_uri": "https://localhost:8080/"
        },
        "id": "r78lsbixLbqE",
        "outputId": "214e0c5a-b49f-4aaa-f100-c7401232dd4f"
      },
      "execution_count": 55,
      "outputs": [
        {
          "output_type": "stream",
          "name": "stdout",
          "text": [
            "¡Datos generados exitosamente!\n"
          ]
        }
      ]
    }
  ]
}