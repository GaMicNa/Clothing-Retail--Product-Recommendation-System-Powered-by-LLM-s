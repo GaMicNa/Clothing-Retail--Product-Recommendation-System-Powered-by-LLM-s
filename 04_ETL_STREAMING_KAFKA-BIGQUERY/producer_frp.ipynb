{
 "cells": [
  {
   "cell_type": "code",
   "execution_count": null,
   "metadata": {},
   "outputs": [
    {
     "name": "stdout",
     "output_type": "stream",
     "text": [
      "Collecting kafka\n",
      "  Downloading kafka-1.3.5-py2.py3-none-any.whl (207 kB)\n",
      "     -------------------------------------- 207.2/207.2 kB 1.4 MB/s eta 0:00:00\n",
      "Installing collected packages: kafka\n",
      "Successfully installed kafka-1.3.5\n",
      "Note: you may need to restart the kernel to use updated packages.\n"
     ]
    }
   ],
   "source": [
    "#pip install kafka"
   ]
  },
  {
   "cell_type": "code",
   "execution_count": 1,
   "metadata": {},
   "outputs": [
    {
     "ename": "SyntaxError",
     "evalue": "invalid syntax (simple.py, line 54)",
     "output_type": "error",
     "traceback": [
      "Traceback \u001b[1;36m(most recent call last)\u001b[0m:\n",
      "  File \u001b[0;32m\"c:\\Users\\ASUS\\anaconda3\\lib\\site-packages\\IPython\\core\\interactiveshell.py\"\u001b[0m, line \u001b[0;32m3457\u001b[0m, in \u001b[0;35mrun_code\u001b[0m\n    exec(code_obj, self.user_global_ns, self.user_ns)\n",
      "  File \u001b[0;32m\"C:\\Users\\ASUS\\AppData\\Local\\Temp\\ipykernel_7796\\1613359909.py\"\u001b[0m, line \u001b[0;32m1\u001b[0m, in \u001b[0;35m<module>\u001b[0m\n    from kafka import KafkaProducer\n",
      "  File \u001b[0;32m\"c:\\Users\\ASUS\\anaconda3\\lib\\site-packages\\kafka\\__init__.py\"\u001b[0m, line \u001b[0;32m23\u001b[0m, in \u001b[0;35m<module>\u001b[0m\n    from kafka.producer import KafkaProducer\n",
      "\u001b[1;36m  File \u001b[1;32m\"c:\\Users\\ASUS\\anaconda3\\lib\\site-packages\\kafka\\producer\\__init__.py\"\u001b[1;36m, line \u001b[1;32m4\u001b[1;36m, in \u001b[1;35m<module>\u001b[1;36m\u001b[0m\n\u001b[1;33m    from .simple import SimpleProducer\u001b[0m\n",
      "\u001b[1;36m  File \u001b[1;32m\"c:\\Users\\ASUS\\anaconda3\\lib\\site-packages\\kafka\\producer\\simple.py\"\u001b[1;36m, line \u001b[1;32m54\u001b[0m\n\u001b[1;33m    return '<SimpleProducer batch=%s>' % self.async\u001b[0m\n\u001b[1;37m                                              ^\u001b[0m\n\u001b[1;31mSyntaxError\u001b[0m\u001b[1;31m:\u001b[0m invalid syntax\n"
     ]
    }
   ],
   "source": [
    "from kafka import KafkaProducer\n",
    "from faker import Faker\n",
    "import json\n",
    "import time\n",
    "import random\n",
    "\n",
    "fake = Faker()\n",
    "\n",
    "# Configurar el productor de Kafka\n",
    "producer = KafkaProducer(\n",
    "    bootstrap_servers=['localhost:9092'],\n",
    "    value_serializer=lambda v: json.dumps(v).encode('utf-8')\n",
    ")\n",
    "\n",
    "# Tipos de eventos simulados\n",
    "event_types = ['view', 'click', 'add_to_cart', 'purchase']\n",
    "\n",
    "def generate_interaction():\n",
    "    return {\n",
    "        \"interaction_id\": fake.unique.random_number(digits=8),\n",
    "        \"customer_id\": random.randint(1, 5005),  # Asume 1000 clientes\n",
    "        \"product_id\": random.randint(1, 500),     # Asume 500 productos\n",
    "        \"event_type\": random.choice(event_types),\n",
    "        \"event_timestamp\": fake.iso8601(),\n",
    "        \"session_id\": fake.uuid4()\n",
    "    }\n",
    "\n",
    "max_interactions = 20  # <--- Límite definido aquí\n",
    "for _ in range(max_interactions):\n",
    "    data = generate_interaction()\n",
    "    producer.send('interactions_topic', value=data)\n",
    "    print(f\"Enviado: {data}\")\n",
    "    time.sleep(random.uniform(0.1, 1))  # Intervalo entre interacciones\n",
    "\n",
    "print(\"¡Se han generado 20 interacciones!\")  # Mensaje final"
   ]
  }
 ],
 "metadata": {
  "kernelspec": {
   "display_name": "base",
   "language": "python",
   "name": "python3"
  },
  "language_info": {
   "codemirror_mode": {
    "name": "ipython",
    "version": 3
   },
   "file_extension": ".py",
   "mimetype": "text/x-python",
   "name": "python",
   "nbconvert_exporter": "python",
   "pygments_lexer": "ipython3",
   "version": "3.9.13"
  }
 },
 "nbformat": 4,
 "nbformat_minor": 2
}
